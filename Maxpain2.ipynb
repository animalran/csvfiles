{
  "nbformat": 4,
  "nbformat_minor": 0,
  "metadata": {
    "colab": {
      "name": "Maxpain2.ipynb",
      "provenance": [],
      "collapsed_sections": [],
      "include_colab_link": true
    },
    "kernelspec": {
      "name": "python3",
      "display_name": "Python 3"
    }
  },
  "cells": [
    {
      "cell_type": "markdown",
      "metadata": {
        "id": "view-in-github",
        "colab_type": "text"
      },
      "source": [
        "<a href=\"https://colab.research.google.com/github/animalran/csvfiles/blob/master/Maxpain2.ipynb\" target=\"_parent\"><img src=\"https://colab.research.google.com/assets/colab-badge.svg\" alt=\"Open In Colab\"/></a>"
      ]
    },
    {
      "cell_type": "code",
      "metadata": {
        "id": "JLfXwgx8gk_M"
      },
      "source": [
        "import requests\n",
        "import pandas as pd\n",
        "import numpy as np\n",
        "import matplotlib.pyplot as plt"
      ],
      "execution_count": null,
      "outputs": []
    },
    {
      "cell_type": "code",
      "metadata": {
        "id": "dVtfovETtxHG",
        "colab": {
          "base_uri": "https://localhost:8080/"
        },
        "outputId": "7172954b-5c29-4c3b-a198-07e5ad286920"
      },
      "source": [
        "url= input(\"url: \")"
      ],
      "execution_count": 2,
      "outputs": [
        {
          "name": "stdout",
          "output_type": "stream",
          "text": [
            "url: https://www1.nseindia.com/live_market/dynaContent/live_watch/get_quote/GetQuote.jsp?symbol=TATACONSUM\n"
          ]
        }
      ]
    },
    {
      "cell_type": "code",
      "metadata": {
        "id": "U6SkUqNahwpq"
      },
      "source": [
        "r = requests.get(url).content\n",
        "df_list = pd.read_html(r)\n",
        "df = df_list[1]\n",
        "data = df.iloc[:,:]\n",
        "print(data)\n",
        "sp = df.loc[:,\"Unnamed: 11_level_0\"] # strike prices\n",
        "\n",
        "  \n",
        "def spn(n):\n",
        "  spn = int(sp.loc[n:n,\"Strike Price\"])\n",
        "  return spn\n",
        "sp1= spn(1)\n",
        "sp2= spn(2)\n",
        "sp3= spn(3)\n",
        "sp4= spn(4)\n",
        "sp5= spn(5)\n",
        "sp6= spn(6)\n",
        "sp7= spn(7)\n",
        "sp8= spn(8)\n",
        "sp9= spn(9)\n",
        "sp10= spn(10)\n",
        "sp11= spn(11)\n",
        "sp12= spn(12)\n",
        "sp13= spn(13)\n",
        "sp14= spn(14)\n",
        "SP= [sp1,sp2,sp3,sp4,sp5,sp6,sp7,sp8,sp9,sp10,sp11,sp12,sp13,sp14]"
      ],
      "execution_count": null,
      "outputs": []
    },
    {
      "cell_type": "code",
      "metadata": {
        "id": "399xLjVikb8y"
      },
      "source": [
        "CALLS = df.loc[:,\"CALLS\"]\n",
        "CALLS = CALLS.replace('-',np.nan) # replace '-' with nan\n",
        "CALLS = CALLS.fillna(0) # replace nan with 0\n",
        "def cn(n):\n",
        "  cn = int(CALLS.loc[n:n,'OI'])\n",
        "  return cn\n",
        "c1= cn(1)\n",
        "c2= cn(2)\n",
        "c3= cn(3)\n",
        "c4= cn(4)\n",
        "c5= cn(5)\n",
        "c6= cn(6)\n",
        "c7= cn(7)\n",
        "c8= cn(8)\n",
        "c9= cn(9)\n",
        "c10= cn(10)\n",
        "c11= cn(11)\n",
        "c12= cn(12)\n",
        "c13= cn(13)\n",
        "c14= cn(14)\n",
        "C=[c1,c2,c3,c4,c5,c6,c7,c8,c9,c10,c11,c12,c13,c14]\n",
        "\n"
      ],
      "execution_count": null,
      "outputs": []
    },
    {
      "cell_type": "code",
      "metadata": {
        "id": "_W97NxNFm08i"
      },
      "source": [
        "PUTS = df.loc[:,\"PUTS\"]\n",
        "PUTS = PUTS.replace('-',np.nan) # replace '-' with nan\n",
        "PUTS = PUTS.fillna(0) # replace nan with 0\n",
        "def pn(n):\n",
        "  pn = int(PUTS.loc[n:n,'OI'])\n",
        "  return pn\n",
        "p1= pn(1)\n",
        "p2= pn(2)\n",
        "p3= pn(3)\n",
        "p4= pn(4)\n",
        "p5= pn(5)\n",
        "p6= pn(6)\n",
        "p7= pn(7)\n",
        "p8= pn(8)\n",
        "p9= pn(9)\n",
        "p10= pn(10)\n",
        "p11= pn(11)\n",
        "p12= pn(12)\n",
        "p13= pn(13)\n",
        "p14= pn(14)"
      ],
      "execution_count": null,
      "outputs": []
    },
    {
      "cell_type": "code",
      "metadata": {
        "id": "LN_L2JVooXWu"
      },
      "source": [
        "def cl(n):\n",
        "    def clm(m):\n",
        "        clm=((SP[n]-SP[m])*C[m])\n",
        "        return clm\n",
        "    cl_list=[clm(0),clm(1),clm(2),clm(3),clm(4),clm(5),clm(6),clm(7),clm(8),clm(9),clm(10),clm(11),clm(12),clm(13)]\n",
        "    cl=[x for x in cl_list if x>=0]\n",
        "    cl=sum(cl)\n",
        "    return cl\n",
        "cl1= cl(0)\n",
        "cl2= cl(1)\n",
        "cl3= cl(2)\n",
        "cl4= cl(3)\n",
        "cl5= cl(4)\n",
        "cl6= cl(5)\n",
        "cl7= cl(6)\n",
        "cl8= cl(7)\n",
        "cl9= cl(8)\n",
        "cl10= cl(9)\n",
        "cl11= cl(sp10)\n",
        "cl12= cl(sp11)\n",
        "cl13= cl(sp12)\n"
      ],
      "execution_count": null,
      "outputs": []
    },
    {
      "cell_type": "code",
      "metadata": {
        "id": "ZWyiSC2V2mgi"
      },
      "source": [
        "def pln(spn):\n",
        "  pln1= ((sp1-spn)*p1)\n",
        "  pln2= ((sp2-spn)*p2)\n",
        "  pln_list = [pln1,pln2]\n",
        "  z= [x for x in pln_list if x>= 0]\n",
        "  pln= sum(z)\n",
        "  return pln\n",
        "pl1= pln(sp1)\n",
        "pl2= pln(sp2)\n",
        "pl3= pln(sp3)\n",
        "pl4= pln(sp4)\n",
        "pl5= pln(sp5)\n",
        "pl6= pln(sp6)\n",
        "pl7= pln(sp7)\n",
        "pl8= pln(sp8)\n",
        "pl9= pln(sp9)\n",
        "pl10= pln(sp10)\n",
        "pl11= pln(sp11)\n",
        "pl12= pln(sp12)\n",
        "pl13= pln(sp13)\n",
        "pl14= pln(sp14)"
      ],
      "execution_count": null,
      "outputs": []
    },
    {
      "cell_type": "code",
      "metadata": {
        "id": "GMdjbSNg-Tq5"
      },
      "source": [
        "tl1= cl1+pl1\n",
        "tl2= cl2+pl2\n",
        "tl3= cl3+pl3\n",
        "tl4= cl4+pl4\n",
        "tl5= cl5+pl5\n",
        "tl6= cl6+pl6\n",
        "tl7= cl7+pl7\n",
        "tl8= cl8+pl8\n",
        "tl9= cl9+pl9\n",
        "tl10= cl10+pl10\n",
        "tl11= cl11+pl11\n",
        "tl12= cl12+pl12\n",
        "tl13= cl13+pl13\n",
        "tl14= cl14+pl14\n",
        "TL= [tl1,tl2,tl3,tl4,tl5,tl6,tl7,tl8,tl9,tl10,tl11,tl12,tl13,tl14]\n",
        "print(min(TL))"
      ],
      "execution_count": null,
      "outputs": []
    },
    {
      "cell_type": "code",
      "metadata": {
        "id": "UjzLHAjSF64q"
      },
      "source": [
        "M= pd.DataFrame({\"SP\":SP,\"TL\":TL})\n",
        "plt.plot(SP,TL)\n",
        "plt.rcParams[\"figure.figsize\"] = [16,9]\n",
        "tick_label= SP\n",
        "plt.bar(SP,TL,tick_label=tick_label,width = 5,color = ['red', 'green'])\n",
        "print(M)"
      ],
      "execution_count": null,
      "outputs": []
    }
  ]
}